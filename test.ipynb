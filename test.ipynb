{
 "cells": [
  {
   "cell_type": "code",
   "execution_count": 62,
   "metadata": {},
   "outputs": [],
   "source": [
    "import yaml"
   ]
  },
  {
   "cell_type": "code",
   "execution_count": 63,
   "metadata": {},
   "outputs": [],
   "source": [
    "with open(\"shit.yml\", \"r\") as f:\n",
    "    data = yaml.safe_load(f)"
   ]
  },
  {
   "cell_type": "code",
   "execution_count": 64,
   "metadata": {},
   "outputs": [
    {
     "data": {
      "text/plain": [
       "{'model': None,\n",
       " 'preprocess': [{'resize': None}],\n",
       " 'leaky_relu': 0.1,\n",
       " 'backbone': [{'pretrained': {'name': 'torchhub/resnet50', 'out': [3, 4, 5]}},\n",
       "  {'conv': [128, 5, 'my_leaky_relu']},\n",
       "  {'conv': [128, 5, 'my_leaky_relu']},\n",
       "  {'conv': [128, 5, 'my_leaky_relu']},\n",
       "  {'conv': [128, 5, 'leaky_relu(0.1)']},\n",
       "  {'concat': [-1, -3, -4]},\n",
       "  {'conv': {'_': [128, 5, 'leaky_relu'], 'name': 'fsdf'}},\n",
       "  {'conv': [128, 5, 'leaky_relu']},\n",
       "  {'deformable_attn': None},\n",
       "  {'flatten': None},\n",
       "  {'dense': 24},\n",
       "  {'dense': {'input': ['P4', 'P5', 'P6']}},\n",
       "  {'pptom': {'backbone': {'side_backbone': None}, 'type': 'g'}}]}"
      ]
     },
     "execution_count": 64,
     "metadata": {},
     "output_type": "execute_result"
    }
   ],
   "source": [
    "data"
   ]
  }
 ],
 "metadata": {
  "kernelspec": {
   "display_name": "yolo-v8-cctv",
   "language": "python",
   "name": "python3"
  },
  "language_info": {
   "codemirror_mode": {
    "name": "ipython",
    "version": 3
   },
   "file_extension": ".py",
   "mimetype": "text/x-python",
   "name": "python",
   "nbconvert_exporter": "python",
   "pygments_lexer": "ipython3",
   "version": "3.10.0"
  }
 },
 "nbformat": 4,
 "nbformat_minor": 2
}
